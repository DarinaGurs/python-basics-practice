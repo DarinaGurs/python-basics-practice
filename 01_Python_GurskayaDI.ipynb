{
 "cells": [
  {
   "cell_type": "markdown",
   "id": "83714927",
   "metadata": {},
   "source": [
    "\n"
   ]
  },
  {
   "cell_type": "markdown",
   "id": "6c56cdf6",
   "metadata": {},
   "source": [
    "## Типы и объекты"
   ]
  },
  {
   "cell_type": "markdown",
   "id": "06df97ed",
   "metadata": {},
   "source": [
    "### Задание 1\n",
    "Используя функцию type(), попробуйте выполнить следующие операции и посмотрите что выведется на экран:\n",
    "\n",
    "\n",
    "- type(None)\n",
    "- type(True)\n",
    "- type(False)\n",
    "- type(1)\n",
    "- type(5.3)\n",
    "- type(5 + 4j)\n",
    "- type([1, 5.3, False, 4])\n",
    "- type((1, True, 3, 5+4j))\n",
    "- type(range(5))\n",
    "- type('Hello')\n",
    "- type(b'a')\n",
    "- type(bytearray([1,2,3]))\n",
    "- type(memoryview(bytearray('XYZ', 'utf-8')))\n",
    "- type({'a', 3, True})\n",
    "- type(frozenset({1, 2, 3}))\n",
    "- type({'a' : 32}).\n",
    "\n"
   ]
  },
  {
   "cell_type": "markdown",
   "id": "baebadb3",
   "metadata": {},
   "source": [
    "### Code:"
   ]
  },
  {
   "cell_type": "code",
   "execution_count": 1,
   "id": "71db92aa",
   "metadata": {},
   "outputs": [
    {
     "name": "stdout",
     "output_type": "stream",
     "text": [
      "<class 'NoneType'>\n",
      "<class 'bool'>\n",
      "<class 'bool'>\n",
      "<class 'int'>\n",
      "<class 'float'>\n",
      "<class 'complex'>\n",
      "<class 'list'>\n",
      "<class 'tuple'>\n",
      "<class 'range'>\n",
      "<class 'str'>\n",
      "<class 'bytes'>\n",
      "<class 'bytearray'>\n",
      "<class 'memoryview'>\n",
      "<class 'set'>\n",
      "<class 'frozenset'>\n",
      "<class 'dict'>\n"
     ]
    }
   ],
   "source": [
    "print(type(None))\n",
    "print(type(True))\n",
    "print(type(False))\n",
    "print(type(1))\n",
    "print(type(5.3))\n",
    "print(type(5 + 4j))\n",
    "print(type([1, 5.3, False, 4]))\n",
    "print(type((1, True, 3, 5+4j)))\n",
    "print(type(range(5)))\n",
    "print(type('Hello'))\n",
    "print(type(b'a'))\n",
    "print(type(bytearray([1,2,3])))\n",
    "print(type(memoryview(bytearray('XYZ', 'utf-8'))))\n",
    "print(type({'a', 3, True}))\n",
    "print(type(frozenset({1, 2, 3})))\n",
    "print(type({'a' : 32}))\n"
   ]
  },
  {
   "cell_type": "markdown",
   "id": "c84ccd1f",
   "metadata": {},
   "source": [
    "### Комментарии\n",
    "\n",
    "type() — это встроенная функция Python, которая в зависимости от переданных аргументов возвращает тип объектов или объект нового типа.\n",
    "\n",
    "\n",
    "Функция type() возвращает информацию о структурах данных, используемых для хранения элементов данных в программе. При сохранении данных в Python тип элементов в явном виде не указывается. А для определения типа данных используется type()."
   ]
  },
  {
   "cell_type": "markdown",
   "id": "be0937a2",
   "metadata": {},
   "source": [
    "## Типы операторов"
   ]
  },
  {
   "cell_type": "markdown",
   "id": "113f12fc",
   "metadata": {},
   "source": [
    "### Задание 1\n",
    "\n",
    "\n",
    "Мы предлагаем вам потренироваться c логическими и побитовыми операторами. Ниже будут приведены выражения и ответы к ним. Попробуйте мысленно или на бумаге решить эти выражения и затем проверить себя, посмотрев правильный ответ. Задания будут располагаться по нарастающей от простого к сложному. Удачи!\n",
    "\n",
    "Для:\n",
    "\n",
    "a = True\n",
    "\n",
    "b = False\n",
    "\n",
    "Решите:\n",
    "\n",
    "1. a and b\n",
    "2. (a and b) or b\n",
    "3. (a and b) or not (a and b)\n",
    "4. a and b or not (a or b) or b\n",
    "5. b and b or not a and (a or b or a) or not (a or b)\n",
    "6. 1 << 2\n",
    "7. 1 & 0 | 1 >> 1\n",
    "8. 1 & 0 | 1 >> 0\n",
    "9. 0b101 & 0b111 ^ 0b111 | 0b010 Комментарий: \"0b101\" - запись числа \"5\" на языке Python в двоичном виде\n",
    "10. (7 & 9) ^ (1 | 0) & (3 & 4)"
   ]
  },
  {
   "cell_type": "markdown",
   "id": "e74ba773",
   "metadata": {},
   "source": [
    "### Code:"
   ]
  },
  {
   "cell_type": "code",
   "execution_count": 2,
   "id": "4d39e6ce",
   "metadata": {},
   "outputs": [
    {
     "name": "stdout",
     "output_type": "stream",
     "text": [
      "False\n",
      "False\n",
      "True\n",
      "False\n",
      "False\n",
      "4\n",
      "0\n",
      "1\n",
      "2\n",
      "1\n"
     ]
    }
   ],
   "source": [
    "# Определяем логические переменные\n",
    "a = True  \n",
    "b = False  \n",
    "\n",
    "# Вывод логического И (AND) для a и b\n",
    "# Поскольку b False, результат будет False\n",
    "print(a and b) \n",
    "\n",
    "# Вывод логического И (AND) для a и b, затем ИЛИ (OR) с b\n",
    "# Поскольку a and b равно False, а b также False, результат будет False\n",
    "print((a and b) or b)  \n",
    "\n",
    "# Вывод логического И (AND) для a и b, затем ИЛИ (OR) с отрицанием этого результата\n",
    "# Поскольку a and b равно False, вычисляем not False = True. Результат будет True\n",
    "print((a and b) or not (a and b)) \n",
    "\n",
    "# Вывод логического И (AND) для a и b, затем ИЛИ (OR) с отрицанием a ИЛИ b, затем ИЛИ (OR) с b\n",
    "# Поскольку a and b равно False, находим not (a or b), что равно True,\n",
    "# а затем True OR b (где b = False), результат True\n",
    "print(a and b or not (a or b) or b)  \n",
    "\n",
    "# Вывод логического И (AND) для b с собой (b), затем ИЛИ (OR) с отрицанием a\n",
    "# b and b = False, а not a = False; в итоге получаем False OR (пока мы не вычислили)\n",
    "# (a or b or a) = (True or False or True) = True\n",
    "# not (a or b) = False\n",
    "print(b and b or not a and (a or b or a) or not (a or b))  \n",
    "\n",
    "# Результат битового сдвига влево (1) на 2 позиции: это эквивалентно 4 (1 * 2^2)\n",
    "print(1 << 2)  \n",
    "\n",
    "# Результат битовых операций: AND (1 & 0 = 0), OR (0 | 1 >> 1 = 0) \n",
    "# 1 >> 1 = 0\n",
    "print(1 & 0 | 1 >> 1) \n",
    "\n",
    "# 1 & 0 = 0, 1 >> 0 = 1\n",
    "# 0 OR 1 = 1\n",
    "print(1 & 0 | 1 >> 0)  \n",
    "\n",
    "# Битовая операция с двоичными числами: 0b101 & 0b111 = 0b101 \n",
    "# 0b101 ^ 0b111 = 0b010; \n",
    "# 0b010 | 0b010 = '010'\n",
    "print(0b101 & 0b111 ^ 0b111 | 0b010)  \n",
    "\n",
    "# Пусть c = 7 (0b111) и d = 9 (0b1001), c AND d = 0b001, \n",
    "# 0b001 OR 0b010 = 0b011\n",
    "print((7 & 9) ^ (1 | 0) & (3 & 4))  "
   ]
  },
  {
   "cell_type": "markdown",
   "id": "c9e28b7d",
   "metadata": {},
   "source": [
    "### Комментарии\n",
    "\n",
    "В процессе выполнения данного задания были рассмотрены механизмы работы с операторами логического и побитового типа.  "
   ]
  },
  {
   "cell_type": "markdown",
   "id": "0dddafb6",
   "metadata": {},
   "source": [
    "## Условные операторы"
   ]
  },
  {
   "cell_type": "markdown",
   "id": "dfbcc1f4",
   "metadata": {},
   "source": [
    "### Задание 1\n",
    "\n",
    "Допишите функцию, которая принимает 2 числа, сравнивает между собой и возвращает наименьшее."
   ]
  },
  {
   "cell_type": "markdown",
   "id": "eb2eb9c5",
   "metadata": {},
   "source": [
    "### Code:"
   ]
  },
  {
   "cell_type": "code",
   "execution_count": 3,
   "id": "a65f597c",
   "metadata": {},
   "outputs": [
    {
     "name": "stdout",
     "output_type": "stream",
     "text": [
      "Наименьшее число между 3 и 1: 1\n"
     ]
    }
   ],
   "source": [
    "def minimum(a, b):\n",
    "    if a < b:\n",
    "        return a\n",
    "    else:\n",
    "        return b\n",
    "\n",
    "# Пример использования функции\n",
    "a = 3\n",
    "b = 1\n",
    "minimum = minimum(a, b)\n",
    "print(f\"Наименьшее число между {a} и {b}: {minimum}\")"
   ]
  },
  {
   "cell_type": "markdown",
   "id": "d7b32acd",
   "metadata": {},
   "source": [
    "### Задание 2\n",
    "\n",
    "Допишите функцию, которая принимает 3 числа, сравнивает между собой и возвращает наименьшее."
   ]
  },
  {
   "cell_type": "markdown",
   "id": "0050536a",
   "metadata": {},
   "source": [
    "### Code:"
   ]
  },
  {
   "cell_type": "code",
   "execution_count": 4,
   "id": "d4c63987",
   "metadata": {},
   "outputs": [
    {
     "name": "stdout",
     "output_type": "stream",
     "text": [
      "Наименьшим числом является 1\n"
     ]
    }
   ],
   "source": [
    "def minimum_of_three(a, b, c):\n",
    "    min_value = a\n",
    "    if b < min_value:\n",
    "        min_value = b\n",
    "\n",
    "    if c < min_value:\n",
    "        min_value = c\n",
    "    \n",
    "    return min_value\n",
    "\n",
    "# Пример использования функции\n",
    "a = 1\n",
    "b = 2\n",
    "c = 3\n",
    "minimum = minimum_of_three(a, b, c)\n",
    "print(f\"Наименьшим числом является {minimum}\")"
   ]
  },
  {
   "cell_type": "markdown",
   "id": "45a0d221",
   "metadata": {},
   "source": [
    "### Задание 3\n",
    "\n",
    "Допишите функцию, которая принимает 3 числа, сравнивает между собой и возвращает количество совпадающих чисел. Соответственно, программа может возвращать одно из трех чисел: 3 - если совпадают все, 2 - если совпадают 2 числа, 0 - если все числа различны."
   ]
  },
  {
   "cell_type": "markdown",
   "id": "26c0e9df",
   "metadata": {},
   "source": [
    "### Code:"
   ]
  },
  {
   "cell_type": "code",
   "execution_count": 5,
   "id": "556b3324",
   "metadata": {},
   "outputs": [
    {
     "name": "stdout",
     "output_type": "stream",
     "text": [
      "Количество совпадающих чисел: 2\n"
     ]
    }
   ],
   "source": [
    "def matching_numbers(a, b, c):\n",
    "    \n",
    "    if a == b == c:\n",
    "        return 3  # Все три числа совпадают\n",
    "    elif a == b or a == c or b == c:\n",
    "        return 2  # Два числа совпадают\n",
    "    else:\n",
    "        return 0  # Все числа различны\n",
    "\n",
    "# Пример использования функции\n",
    "a = 10\n",
    "b = 10\n",
    "c = 1\n",
    "matching_count = matching_numbers(a, b, c)\n",
    "print(f\"Количество совпадающих чисел: {matching_count}\")"
   ]
  },
  {
   "cell_type": "markdown",
   "id": "eba01386",
   "metadata": {},
   "source": [
    "### Комментарии\n",
    "\n",
    "Условные операторы нужны для проверки условий и, в зависимости от результата, чтобы вести логику выполнения программы в нужном направлении.\n",
    "\n",
    "Условный оператор if является основным оператором проверки выполнения условия. "
   ]
  },
  {
   "cell_type": "markdown",
   "id": "cc8d11cb",
   "metadata": {},
   "source": [
    "## Циклы"
   ]
  },
  {
   "cell_type": "markdown",
   "id": "50545d5b",
   "metadata": {},
   "source": [
    "### Задание 1\n",
    "\n",
    "Допишите функцию, которая принимает массив из 10 чисел и возвращает их сумму."
   ]
  },
  {
   "cell_type": "markdown",
   "id": "9df79d77",
   "metadata": {},
   "source": [
    "### Code:"
   ]
  },
  {
   "cell_type": "code",
   "execution_count": 6,
   "id": "ba833c5b",
   "metadata": {},
   "outputs": [
    {
     "name": "stdout",
     "output_type": "stream",
     "text": [
      "Сумма чисел: 238\n"
     ]
    }
   ],
   "source": [
    "def sum_of_numbers(numbers):\n",
    "    # Проверка на количество чисел в исходном массиве \n",
    "    if len(numbers) != 10:\n",
    "        raise ValueError(\"В массиве должно быть ровно 10 чисел.\") \n",
    "\n",
    "    total_sum = sum(numbers)\n",
    "    return total_sum\n",
    "\n",
    "# Пример использования функции\n",
    "numbers_array = [5, 2, 7, 4, 3, 8, 7, 8, 93, 101]\n",
    "result = sum_of_numbers(numbers_array)\n",
    "print(f\"Сумма чисел: {result}\")"
   ]
  },
  {
   "cell_type": "markdown",
   "id": "1ec4b993",
   "metadata": {},
   "source": [
    "### Задание 2\n",
    "\n",
    "Допишите функцию, которая принимает 3 числа, сравнивает между собой и возвращает наименьшее."
   ]
  },
  {
   "cell_type": "markdown",
   "id": "7e3a515f",
   "metadata": {},
   "source": [
    "### Code:"
   ]
  },
  {
   "cell_type": "code",
   "execution_count": 7,
   "id": "7c5044f0",
   "metadata": {},
   "outputs": [
    {
     "name": "stdout",
     "output_type": "stream",
     "text": [
      "Наиеньшее из чисел: 5\n"
     ]
    }
   ],
   "source": [
    "def find_minimum(num1, num2, num3):\n",
    "    minimum = num1\n",
    "    for i in [num2, num3]:\n",
    "        if i < minimum:\n",
    "            minimum = i\n",
    "    return minimum\n",
    "\n",
    "num1 = 10\n",
    "num2 = 5\n",
    "num3 = 8\n",
    "result = find_minimum(num1, num2, num3)\n",
    "print(f\"Наиеньшее из чисел: {result}\") # Output: The smallest number is: 5"
   ]
  },
  {
   "cell_type": "markdown",
   "id": "61237479",
   "metadata": {},
   "source": [
    "### Задание 3\n",
    "\n",
    "Напишите программу, в которой задается натуральное число n и выводится лестница из n ступенек, i-я ступенька должна состоять из чисел от 1 до i без пробелов."
   ]
  },
  {
   "cell_type": "markdown",
   "id": "87b7cd37",
   "metadata": {},
   "source": [
    "### Code:"
   ]
  },
  {
   "cell_type": "code",
   "execution_count": 10,
   "id": "d3413b88",
   "metadata": {},
   "outputs": [
    {
     "name": "stdout",
     "output_type": "stream",
     "text": [
      "Введите натуральное число n: 5\n",
      "1\n",
      "12\n",
      "123\n",
      "1234\n",
      "12345\n"
     ]
    }
   ],
   "source": [
    "n = int(input(\"Введите натуральное число n: \"))\n",
    "\n",
    "for i in range(1, n+1):\n",
    "    for j in range(1, i+1):\n",
    "        print(j, end=\"\")\n",
    "    print()"
   ]
  },
  {
   "cell_type": "markdown",
   "id": "2f3efeff",
   "metadata": {},
   "source": [
    "### Задание 4\n",
    "\n",
    "Напишите программу, в которой задается натуральное число n и выводится пирамида из n ступенек, i-я ступень должна состоять из чисел от 1 до i и обратно без пробелов."
   ]
  },
  {
   "cell_type": "markdown",
   "id": "6ae87edd",
   "metadata": {},
   "source": [
    "### Code:"
   ]
  },
  {
   "cell_type": "code",
   "execution_count": 11,
   "id": "b1addd7d",
   "metadata": {},
   "outputs": [
    {
     "name": "stdout",
     "output_type": "stream",
     "text": [
      "Введите натуральное число n: 5\n",
      "1\n",
      "121\n",
      "12321\n",
      "1234321\n",
      "123454321\n"
     ]
    }
   ],
   "source": [
    "n = int(input(\"Введите натуральное число n: \"))\n",
    "\n",
    "for i in range(1, n+1):\n",
    "    print(''.join(str(j) for j in range(1, i+1)) + ''.join(str(j) for j in range(i-1, 0, -1)))"
   ]
  },
  {
   "cell_type": "markdown",
   "id": "10a8e4c1",
   "metadata": {},
   "source": [
    "### Комментарии \n",
    "\n",
    "Используем цикл for для создания диапазона от 1 до n+1, где n - это натураальное число, введенное пользователем.\n",
    "На каждом шаге цикла создается строка, которая состоит из ряда чисел от 1 до i, где i - это текущее значение переменной цикла.\n",
    "Используем генератор списка для преобразования цифр в строки. Функция str(j) преобразовывает число j в строку.\n",
    "После того, как мы получили строку с числами от 1 до i, мы добавляем к ней строку, состоящую из чисел от i-1 до 1 в обратном порядке.\n"
   ]
  },
  {
   "cell_type": "markdown",
   "id": "0a7ebcd0",
   "metadata": {},
   "source": [
    "### Задание 5\n",
    "\n",
    "Напишите программу, в которой задается натуральное число n и выводится ромб из n*2-1 ступенек, i-я ступень должна состоять из чисел от 1 до i и обратно без пробелов."
   ]
  },
  {
   "cell_type": "markdown",
   "id": "a3c1949f",
   "metadata": {},
   "source": [
    "### Code:"
   ]
  },
  {
   "cell_type": "code",
   "execution_count": 12,
   "id": "b149e467",
   "metadata": {},
   "outputs": [
    {
     "name": "stdout",
     "output_type": "stream",
     "text": [
      "Введите натуральное число n: 7\n",
      "1\n",
      "121\n",
      "12321\n",
      "1234321\n",
      "123454321\n",
      "12345654321\n",
      "1234567654321\n",
      "12345654321\n",
      "123454321\n",
      "1234321\n",
      "12321\n",
      "121\n",
      "1\n"
     ]
    }
   ],
   "source": [
    "n = int(input(\"Введите натуральное число n: \")) \n",
    "for i in range(1, n+1): \n",
    "    print(''.join(str(j) for j in range(1, i+1)) + ''.join(str(j) for j in range(i-1, 0, -1)))\n",
    "for i in range(n-1, 0, -1): \n",
    "    print(''.join(str(j) for j in range(1, i+1)) + ''.join(str(j) for j in range(i-1, 0, -1)) )"
   ]
  },
  {
   "cell_type": "markdown",
   "id": "53b04aa8",
   "metadata": {},
   "source": [
    "### Комментарии \n",
    "\n",
    "Сначала совершается запрос к пользователю ввести натуральное число n. \n",
    "Используем цикл for для формирования верхней части ромба по аналогии с предыдущим заданием, применяя генератор списка и функцию str() для преобразования числа в строку. Затем реализуется цикл for для формирования нижней части ромба."
   ]
  },
  {
   "cell_type": "markdown",
   "id": "abdf8080",
   "metadata": {},
   "source": [
    "## Строки\n"
   ]
  },
  {
   "cell_type": "markdown",
   "id": "a867f0dc",
   "metadata": {},
   "source": [
    "### Задание 1\n",
    "\n",
    "Дана строка: Abraсadabra\n",
    "\n",
    "Требуется:\n",
    "\n",
    "1. Вывести третий символ этой строки.\n",
    "2. Вывести предпоследний символ этой строки.\n",
    "3. Вывести первые пять символов этой строки.\n",
    "4. Вывести строку, кроме последних двух символов.\n",
    "5. Вывести все символы с четными индексами (считайте, что 0 - четный индекс).\n",
    "6. Вывести все символы с нечетными индексами.\n",
    "7. Вывести все символы в обратном порядке.\n",
    "8. Вывести все символы строки через один в обратном порядке, начиная с последнего.\n",
    "9. Вывести длину данной строки."
   ]
  },
  {
   "cell_type": "markdown",
   "id": "aa660de6",
   "metadata": {},
   "source": [
    "### Code:"
   ]
  },
  {
   "cell_type": "code",
   "execution_count": 13,
   "id": "d5d967b7",
   "metadata": {},
   "outputs": [
    {
     "name": "stdout",
     "output_type": "stream",
     "text": [
      "Третий символ: r\n",
      "Предпоследний символ: r\n",
      "Первые пять символов: Abraс\n",
      "Строка без последних двух символов: Abraсadab\n",
      "Символы с четными индексами: Arсdba\n",
      "Символы с нечетными индексами: baaar\n",
      "Строка в обратном порядке: arbadaсarbA\n",
      "Символы через один в обратном порядке: abdсrA\n",
      "Длина строки: 11\n"
     ]
    }
   ],
   "source": [
    "string = \"Abraсadabra\"\n",
    "\n",
    "print(\"Третий символ:\", string[2])\n",
    "print(\"Предпоследний символ:\", string[-2])\n",
    "print(\"Первые пять символов:\", string[:5])\n",
    "print(\"Строка без последних двух символов:\", string[:-2])\n",
    "print(\"Символы с четными индексами:\", string[::2])\n",
    "print(\"Символы с нечетными индексами:\", string[1::2])\n",
    "print(\"Строка в обратном порядке:\", string[::-1])\n",
    "print(\"Символы через один в обратном порядке:\", string[-1::-2])\n",
    "print(\"Длина строки:\", len(string))"
   ]
  },
  {
   "cell_type": "markdown",
   "id": "6c608d54",
   "metadata": {},
   "source": [
    "### Задание 2\n",
    "\n",
    "Напишите код, который обрабатывает строковые данные и возвращает их с первыми заглавными буквами в каждом слове.\n",
    "\n",
    "**Пример:**\n",
    "\n",
    "Input = 'Lorem ipsum dolor sit amet, consectetur adipiscing elit, sed do eiusmod tempor incididunt ut labore et dolore magna aliqua.'\n",
    "...\n",
    "\n",
    "Output = 'Lorem Ipsum Dolor Sit Amet, Consectetur Adipiscing Elit, Sed Do Eiusmod Tempor Incididunt Ut Labore Et Dolore Magna Aliqua.'\n",
    "\n",
    "**Примечание:**\n",
    "\n",
    "Слова в строке отделены пробелами. Каждое слово после обработки должно быть с заглавной буквы, только, если первый символ слова - буква, в случае типа ‘8pin’ код не должен менять буквы.\n",
    "\n",
    "На данном этапе еще не введено понятие “Функция”, поэтому необходимо создать файл и написать код, как в предыдущих разделах. Сначала необходимо объявить переменные, затем написать код, удовлетворяющий условию задания. Для вывода результата необходимо использовать функцию print().\n",
    "\n",
    "Задания для самостоятельной проверки:\n",
    "\n",
    "Подставьте “Входные данные” в свою программу и сравните результат с выходными данными.\n",
    "\n",
    "- Входные данные: ‘ivan ivanov’.\n",
    "  Выходные данные: ‘Ivan Ivanov’\n",
    "- Входные данные: ‘can you solve it?’.\n",
    "  Выходные данные: ‘Can You Solve It?’\n",
    "- Входные данные: ‘abraсadabra’.\n",
    "  Выходные данные: ‘Abraсadabra’\n",
    "- Входные данные: ‘a1 2b 3 abc d3e r2D2’.\n",
    "  Выходные данные: ‘A1 2b 3 Abc D3e R2D2’\n",
    "\n",
    "Некоторые методы имеют больше входных параметров, чем представлено в примерах."
   ]
  },
  {
   "cell_type": "markdown",
   "id": "601b9885",
   "metadata": {},
   "source": [
    "### Code:"
   ]
  },
  {
   "cell_type": "code",
   "execution_count": 14,
   "id": "2b74de6e",
   "metadata": {},
   "outputs": [
    {
     "name": "stdout",
     "output_type": "stream",
     "text": [
      "Lorem Ipsum Dolor Sit Amet, Consectetur Adipiscing Elit, Sed Do Eiusmod Tempor Incididunt Ut Labore Et Dolore Magna Aliqua.\n"
     ]
    }
   ],
   "source": [
    "def capitalize_words(text):\n",
    "    words = text.split()\n",
    "    result = []\n",
    "    for word in words:\n",
    "        if word:  # Проверяем, не пустое ли слово\n",
    "            result.append(word[0].upper() + word[1:])\n",
    "        else:\n",
    "            result.append(word)\n",
    "    return \" \".join(result)\n",
    "    \n",
    "input_text = 'Lorem ipsum dolor sit amet, consectetur adipiscing elit, sed do eiusmod tempor incididunt ut labore et dolore magna aliqua.'\n",
    "output_text = capitalize_words(input_text)\n",
    "print(output_text)\n"
   ]
  },
  {
   "cell_type": "code",
   "execution_count": 15,
   "id": "7cbd9946",
   "metadata": {},
   "outputs": [
    {
     "name": "stdout",
     "output_type": "stream",
     "text": [
      "Ivan Ivanov\n"
     ]
    }
   ],
   "source": [
    "input_text = 'ivan ivanov'\n",
    "output_text = capitalize_words(input_text)\n",
    "print(output_text)"
   ]
  },
  {
   "cell_type": "code",
   "execution_count": 16,
   "id": "23fac80d",
   "metadata": {},
   "outputs": [
    {
     "name": "stdout",
     "output_type": "stream",
     "text": [
      "Can You Solve It?\n"
     ]
    }
   ],
   "source": [
    "input_text = 'can you solve it?' \n",
    "output_text = capitalize_words(input_text)\n",
    "print(output_text)"
   ]
  },
  {
   "cell_type": "code",
   "execution_count": 17,
   "id": "5df25f38",
   "metadata": {},
   "outputs": [
    {
     "name": "stdout",
     "output_type": "stream",
     "text": [
      "Abraсadabra\n"
     ]
    }
   ],
   "source": [
    "input_text = 'abraсadabra'\n",
    "output_text = capitalize_words(input_text)\n",
    "print(output_text)"
   ]
  },
  {
   "cell_type": "code",
   "execution_count": 18,
   "id": "39cca9b7",
   "metadata": {},
   "outputs": [
    {
     "name": "stdout",
     "output_type": "stream",
     "text": [
      "A1 2b 3 Abc D3e R2D2\n"
     ]
    }
   ],
   "source": [
    "input_text = 'a1 2b 3 abc d3e r2D2'\n",
    "output_text = capitalize_words(input_text)\n",
    "print(output_text)"
   ]
  },
  {
   "cell_type": "markdown",
   "id": "20667ff0",
   "metadata": {},
   "source": [
    "### Комментарии\n",
    "\n",
    "Функция capitalize_words(text) принимает строку text в качестве аргумента. Разделяет строку на слова с помощью text.split() и создает пустой список result для хранения обработанных слов.\n",
    "\n",
    "Далее при помощи цикла for проходим каждое слово. Если слово не пустое, то в result добвлем новое слово, созданное с помощью word[0].upper() + word[1:]:\n",
    "\n",
    "- word[0].upper() делает первый символ слова заглавным.\n",
    "- word[1:] добавляет оставшуюся часть слова (с 2-го символа).\n",
    "\n",
    "Возвращаем строку, составленную из слов списка result, соединенных пробелами (\" \".join(result))."
   ]
  },
  {
   "cell_type": "markdown",
   "id": "2537966a",
   "metadata": {},
   "source": [
    "### Задание 3\n",
    "\n",
    "Пароль считается надежным, если его длина составляет не менее 12 символов, при этом он должен содержать хотя бы одну заглавную букву, хотя бы одну строчную букву, хотя бы одну цифру и хотя бы один спецсимвол. \n",
    "\n",
    "Напишите код, который обрабатывает строковые данные и выводит сообщение о том, надежен ли пароль или нет. В случае, если пароль не надежен, код должен выдавать рекомендации для усиления надежности пароля.\n",
    "\n",
    "**Задания для самостоятельной проверки:**\n",
    "\n",
    "- Цифры, которые можно использовать для пароля: ‘1234567890’\n",
    "- Строчные буквы, которые можно использовать для пароля: ‘abcdefghijklmnopqrstuvwxyz’\n",
    "- Заглавные буквы, которые можно использовать для пароля: ‘ABCDEFGHIJKLMNOPQRSTUVWXYZ’\n",
    "- Спецсимволы, которые можно использовать для пароля: ‘!@#\\$%^&*()-+’\n",
    "\n",
    "\n",
    "Подставьте “Входные данные” в свою программу и сравните результат с выходными данными.\n",
    "\n",
    "- Входные данные: ‘qwerty’. \n",
    "Выходные данные: ‘Слабый пароль. Рекомендации: увеличить число символов - 6, добавить 1 заглавную букву, добавить 1 цифру, добавить 1 спецсимвол ‘\n",
    "- Входные данные: ‘Qwert_Y’.\n",
    "Выходные данные: ‘Ошибка. Запрещенный спецсимвол’\n",
    "- Входные данные: ‘Q123wer123tY’.\n",
    "Выходные данные: ‘Слабый пароль. Рекомендации: добавить 1 спецсимвол’\n",
    "- Входные данные: ‘@PowerRangers123@’.\n",
    "Выходные данные: ‘Сильный пароль.’"
   ]
  },
  {
   "cell_type": "markdown",
   "id": "920eee8a",
   "metadata": {},
   "source": [
    "### Code:"
   ]
  },
  {
   "cell_type": "code",
   "execution_count": 19,
   "id": "84ac90d3",
   "metadata": {},
   "outputs": [],
   "source": [
    "def check_password(password):\n",
    "  # Проверка на запрещенные символы\n",
    "    allowed_chars = 'abcdefghijklmnopqrstuvwxyzABCDEFGHIJKLMNOPQRSTUVWXYZ1234567890!@#\\$%^&*()-+'\n",
    "    for char in password:\n",
    "        if char not in allowed_chars:\n",
    "            return \"Ошибка. Запрещенный спецсимвол\"\n",
    "\n",
    "  # Проверка на длину\n",
    "    if len(password) < 12:\n",
    "        return \"Слабый пароль. Рекомендации: увеличить число символов - {}\".format(12 - len(password))\n",
    "\n",
    "  # Проверка на наличие категорий символов\n",
    "    has_uppercase = any(c.isupper() for c in password)\n",
    "    has_lowercase = any(c.islower() for c in password)\n",
    "    has_digit = any(c.isdigit() for c in password)\n",
    "    has_special = any(c in '!@#\\$%^&*()-+' for c in password)\n",
    "\n",
    "  # Создание рекомендаций\n",
    "    recommendations = []\n",
    "    if not has_uppercase:\n",
    "        recommendations.append(\"добавить 1 заглавную букву\")\n",
    "    if not has_lowercase:\n",
    "        recommendations.append(\"добавить 1 строчную букву\")\n",
    "    if not has_digit:\n",
    "        recommendations.append(\"добавить 1 цифру\")\n",
    "    if not has_special:\n",
    "        recommendations.append(\"добавить 1 спецсимвол\")\n",
    "\n",
    "  # Сообщения о надежности пароля\n",
    "    if has_uppercase and has_lowercase and has_digit and has_special:\n",
    "        return \"Сильный пароль.\"\n",
    "    else:\n",
    "        return \"Слабый пароль. Рекомендации: {}\".format(\", \".join(recommendations))\n"
   ]
  },
  {
   "cell_type": "code",
   "execution_count": 20,
   "id": "53e7ca72",
   "metadata": {},
   "outputs": [
    {
     "name": "stdout",
     "output_type": "stream",
     "text": [
      "Слабый пароль. Рекомендации: увеличить число символов - 6\n"
     ]
    }
   ],
   "source": [
    "print(check_password('qwerty'))  # Слабый пароль. Рекомендации: увеличить число символов - 6, добавить 1 заглавную букву, добавить 1 цифру, добавить 1 спецсимвол"
   ]
  },
  {
   "cell_type": "code",
   "execution_count": 21,
   "id": "86e36c77",
   "metadata": {},
   "outputs": [
    {
     "name": "stdout",
     "output_type": "stream",
     "text": [
      "Ошибка. Запрещенный спецсимвол\n"
     ]
    }
   ],
   "source": [
    "print(check_password('Qwert_Y'))  # Ошибка. Запрещенный спецсимвол"
   ]
  },
  {
   "cell_type": "code",
   "execution_count": 22,
   "id": "038a4194",
   "metadata": {},
   "outputs": [
    {
     "name": "stdout",
     "output_type": "stream",
     "text": [
      "Слабый пароль. Рекомендации: добавить 1 спецсимвол\n"
     ]
    }
   ],
   "source": [
    "print(check_password('Q123wer123tY'))  # Слабый пароль. Рекомендации: добавить 1 спецсимвол"
   ]
  },
  {
   "cell_type": "code",
   "execution_count": 23,
   "id": "6176e718",
   "metadata": {},
   "outputs": [
    {
     "name": "stdout",
     "output_type": "stream",
     "text": [
      "Сильный пароль.\n"
     ]
    }
   ],
   "source": [
    "print(check_password('@PowerRangers123@'))  # Сильный пароль."
   ]
  },
  {
   "cell_type": "markdown",
   "id": "22e46dab",
   "metadata": {},
   "source": [
    "### Комментарии\n",
    "\n",
    "Используем цикл for для перебора символов пароля. Внутри цикла проверяем, присутствует ли каждый символ в строке allowed_chars, которая содержит все разрешенные символы. Если символ не найден в allowed_chars, значит он запрещен, и функция возвращает сообщение об ошибке."
   ]
  },
  {
   "cell_type": "markdown",
   "id": "5657ec11",
   "metadata": {},
   "source": [
    "## Списки"
   ]
  },
  {
   "cell_type": "markdown",
   "id": "cb283218",
   "metadata": {},
   "source": [
    "### Задание 1\n",
    "\n",
    "Задан список с числами. Напишите программу, которая выводит все элементы списка с четными индексами в виде нового списка.\n",
    "\n",
    "**Значения для самостоятельной проверки:**\n",
    "\n",
    "Подставьте “Входные данные” в свою программу и сравните результат с выходными данными.\n",
    "\n",
    "- Входные данные: 1, 2, 3, 4, 5. Выходные данные: 1, 3, 5\n",
    "- Входные данные: 9, 4, 5, 2, 3. Выходные данные: 9, 5, 3\n",
    "- Входные данные: 7, 8. Выходные данные: 7\n",
    "- Входные данные: 90, 45, 3, 43. Выходные данные: 90, 3"
   ]
  },
  {
   "cell_type": "markdown",
   "id": "de1ea639",
   "metadata": {},
   "source": [
    "### Code:"
   ]
  },
  {
   "cell_type": "code",
   "execution_count": 24,
   "id": "ec25739c",
   "metadata": {},
   "outputs": [],
   "source": [
    "def list_of_elements(numbers):\n",
    "    new_list = []\n",
    "    for i in range(len(numbers)):\n",
    "        if i % 2 == 0:\n",
    "            new_list.append(numbers[i])\n",
    "    return new_list"
   ]
  },
  {
   "cell_type": "code",
   "execution_count": 25,
   "id": "5c075375",
   "metadata": {},
   "outputs": [
    {
     "name": "stdout",
     "output_type": "stream",
     "text": [
      "[1, 3, 5]\n"
     ]
    }
   ],
   "source": [
    "print(list_of_elements([1, 2, 3, 4, 5]))  "
   ]
  },
  {
   "cell_type": "code",
   "execution_count": 26,
   "id": "101a2606",
   "metadata": {},
   "outputs": [
    {
     "name": "stdout",
     "output_type": "stream",
     "text": [
      "[9, 5, 3]\n"
     ]
    }
   ],
   "source": [
    "print(list_of_elements([9, 4, 5, 2, 3]))  "
   ]
  },
  {
   "cell_type": "code",
   "execution_count": 27,
   "id": "b40a8d7b",
   "metadata": {},
   "outputs": [
    {
     "name": "stdout",
     "output_type": "stream",
     "text": [
      "[7]\n"
     ]
    }
   ],
   "source": [
    "print(list_of_elements([7, 8]))  "
   ]
  },
  {
   "cell_type": "code",
   "execution_count": 28,
   "id": "ae06b77b",
   "metadata": {},
   "outputs": [
    {
     "name": "stdout",
     "output_type": "stream",
     "text": [
      "[90, 3]\n"
     ]
    }
   ],
   "source": [
    "print(list_of_elements([90, 45, 3, 43]))  "
   ]
  },
  {
   "cell_type": "markdown",
   "id": "b0a1a802",
   "metadata": {},
   "source": [
    "### Комментарии\n",
    "\n",
    "Функция, опианная выше принимает список чисел numbers в качестве своего аргумента. Создает пустой список new_list для хранения элементов с четными индексами.\n",
    "\n",
    "Цикл for применяется для прохода по элементам списка numbers. В нем мы проверяем, является ли индекс i четным с помощью условия (if i % 2 == 0). Если индекс четный, добавляем соответствующий элемент в список tzet.\n",
    "Функция возвращает список new_list с элементами, имеющими четные индексы."
   ]
  },
  {
   "cell_type": "markdown",
   "id": "e8fd6f2d",
   "metadata": {},
   "source": [
    "### Задание 2\n",
    "\n",
    "Задан список с числами. Напишите программу, которая выводит все элементы списка, которые больше предыдущего, в виде отдельного списка.\n",
    "\n",
    "**Значения для самостоятельной проверки:**\n",
    "\n",
    "Подставьте “Входные данные” в свою программу и сравните результат с выходными данными.\n",
    "\n",
    "- Входные данные: 1, 5, 2, 4, 3. Выходные данные: 5, 4\n",
    "- Входные данные: 1, 2, 3, 4, 5. Выходные данные: 2, 3, 4, 5\n",
    "- Входные данные: 5, 4, 3, 2, 1. Выходные данные:\n",
    "- Входные данные: 1, 5, 1, 5, 1. Выходные данные: 5, 5"
   ]
  },
  {
   "cell_type": "markdown",
   "id": "5305bb64",
   "metadata": {},
   "source": [
    "### Code:"
   ]
  },
  {
   "cell_type": "code",
   "execution_count": 29,
   "id": "4698a7a9",
   "metadata": {},
   "outputs": [],
   "source": [
    "def greater_than_previous(numbers):\n",
    "    new_list = []\n",
    "    if len(numbers) > 1:\n",
    "        for i in range(1, len(numbers)):\n",
    "            if numbers[i] > numbers[i - 1]:\n",
    "                new_list.append(numbers[i])\n",
    "    return new_list"
   ]
  },
  {
   "cell_type": "code",
   "execution_count": 30,
   "id": "2a94cdcb",
   "metadata": {},
   "outputs": [
    {
     "name": "stdout",
     "output_type": "stream",
     "text": [
      "[5, 4]\n"
     ]
    }
   ],
   "source": [
    "print(greater_than_previous([1, 5, 2, 4, 3]))\n"
   ]
  },
  {
   "cell_type": "code",
   "execution_count": 31,
   "id": "c95f4af8",
   "metadata": {},
   "outputs": [
    {
     "name": "stdout",
     "output_type": "stream",
     "text": [
      "[2, 3, 4, 5]\n"
     ]
    }
   ],
   "source": [
    "print(greater_than_previous([1, 2, 3, 4, 5]))\n"
   ]
  },
  {
   "cell_type": "code",
   "execution_count": 32,
   "id": "6297ca17",
   "metadata": {},
   "outputs": [
    {
     "name": "stdout",
     "output_type": "stream",
     "text": [
      "[]\n"
     ]
    }
   ],
   "source": [
    "print(greater_than_previous([5, 4, 3, 2, 1])) \n"
   ]
  },
  {
   "cell_type": "code",
   "execution_count": 33,
   "id": "7a20359f",
   "metadata": {},
   "outputs": [
    {
     "name": "stdout",
     "output_type": "stream",
     "text": [
      "[5, 5]\n"
     ]
    }
   ],
   "source": [
    "print(greater_than_previous([1, 5, 1, 5, 1])) "
   ]
  },
  {
   "cell_type": "markdown",
   "id": "fbd96ed3",
   "metadata": {},
   "source": [
    "### Комментарии\n",
    "\n",
    "Функция greater_than_previous() принимает список чисел numbers в качестве своего аргумента. Создает пустой список new_list для хранения элементов, которые больше предыдущего.\n",
    "\n",
    "Цикл for применяется для прохода по элементам списка numbers. В нем мы сравниваем текущий элемент с предыдущим.\n",
    "Если текущий элемент больше предыдущего (if numbers[i] > numbers[i - 1]), добавляем его в список new_list.\n",
    "Функция возвращает список new_list с элементами, которые больше предыдущего."
   ]
  },
  {
   "cell_type": "markdown",
   "id": "405d8616",
   "metadata": {},
   "source": [
    "### Задание 3\n",
    "\n",
    "Задан список с числами. Напишите программу, которая меняет местами наибольший и наименьший элемент и выводит новый список.\n",
    "\n",
    "**Значения для самостоятельной проверки:**\n",
    "\n",
    "Подставьте “Входные данные” в свою программу и сравните результат с выходными данными.\n",
    "\n",
    "- Входные данные: 3, 4, 5, 2, 1. Выходные данные: 3, 4, 1, 2, 5\n",
    "- Входные данные: -3000, 3000. Выходные данные: 3000, -3000\n",
    "- Входные данные: 1, 2, 3, 4, 5, 6, 7. Выходные данные: 7, 2, 3, 4, 5, 6, 1\n",
    "- Входные данные: -5, 5, 10. Выходные данные: 10, 5, -5"
   ]
  },
  {
   "cell_type": "markdown",
   "id": "b718d467",
   "metadata": {},
   "source": [
    "### Code:"
   ]
  },
  {
   "cell_type": "code",
   "execution_count": 34,
   "id": "3514070b",
   "metadata": {},
   "outputs": [],
   "source": [
    "def min_to_max(numbers):\n",
    "    # Находим наибольший и наименьший элементы\n",
    "    max_value = max(numbers)\n",
    "    min_value = min(numbers)\n",
    "    \n",
    "    # Меняем местами наибольший и наименьший элементы в списке\n",
    "    for i in range(len(numbers)):\n",
    "        if numbers[i] == max_value:\n",
    "            numbers[i] = min_value\n",
    "        elif numbers[i] == min_value:\n",
    "            numbers[i] = max_value\n",
    "    return numbers        "
   ]
  },
  {
   "cell_type": "code",
   "execution_count": 35,
   "id": "e3191f04",
   "metadata": {},
   "outputs": [
    {
     "name": "stdout",
     "output_type": "stream",
     "text": [
      "[3, 4, 1, 2, 5]\n"
     ]
    }
   ],
   "source": [
    "print(min_to_max([3, 4, 5, 2, 1])) "
   ]
  },
  {
   "cell_type": "code",
   "execution_count": 36,
   "id": "dd7f0363",
   "metadata": {},
   "outputs": [
    {
     "name": "stdout",
     "output_type": "stream",
     "text": [
      "[3000, -3000]\n"
     ]
    }
   ],
   "source": [
    "print(min_to_max([-3000, 3000]))"
   ]
  },
  {
   "cell_type": "code",
   "execution_count": 37,
   "id": "3f4012c7",
   "metadata": {},
   "outputs": [
    {
     "name": "stdout",
     "output_type": "stream",
     "text": [
      "[7, 2, 3, 4, 5, 6, 1]\n"
     ]
    }
   ],
   "source": [
    "print(min_to_max([1, 2, 3, 4, 5, 6, 7]))"
   ]
  },
  {
   "cell_type": "code",
   "execution_count": 38,
   "id": "ea629fb0",
   "metadata": {},
   "outputs": [
    {
     "name": "stdout",
     "output_type": "stream",
     "text": [
      "[10, 5, -5]\n"
     ]
    }
   ],
   "source": [
    "print(min_to_max([ -5, 5, 10]))"
   ]
  },
  {
   "cell_type": "markdown",
   "id": "bc213dae",
   "metadata": {},
   "source": [
    "### Комментарии\n",
    "\n",
    "Функция min_to_max() принимает список чисел numbers в качестве своего аргумента.\n",
    "\n",
    "- max_value = max(numbers) — находит наибольший элемент в списке numbers с помощью функции max(numbers).\n",
    "- min_value = min(numbers) — находит наименьший элемент в списке numbers с помощью функции min(numbers).\n",
    "\n",
    "Далее, используя цикл for для перебора всех элементов списка, внутри цикла проверяется, равен ли текущий элемент наибольшему элементу max_value. Если да, то текущий элемент заменяется на наименьший элемент min_value.\n",
    "\n",
    "Аналогично проверяется, равен ли текущий элемент наименьшему элементу min_value. Если да, то текущий элемент заменяется на наибольший элемент max_value."
   ]
  },
  {
   "cell_type": "markdown",
   "id": "0b92a389",
   "metadata": {},
   "source": [
    "## Словари"
   ]
  },
  {
   "cell_type": "markdown",
   "id": "c46a3dce",
   "metadata": {},
   "source": [
    "### Задание 1\n",
    "\n",
    "Допишите функцию, которая принимает несколько параметров. Первый параметр - словарь, второй параметр - один из ключей данного словаря. Функция должна выводить значение по этого ключа.\n",
    "\n",
    "Подставьте “Входные данные” в свою программу и сравните результат с выходными данными.\n",
    "\n",
    "- Входные данные: {'Hello' : 'Hi', 'Bye' : 'Goodbye', 'List' : 'Array'};\n",
    "Параметр для input() : 'Bye'.\n",
    "Выходные данные: 'Goodbye'.\n",
    "- Входные данные: {'beep' : 'car'};\n",
    "Параметр для input() : 'beep'.\n",
    "Выходные данные: 'car'.\n",
    "- Входные данные: {'a' : 1, 'b' : 2, 'c' : 3, 'd' : 4, 'e' : 5};\n",
    "Параметр для input() : 'c'.\n",
    "Выходные данные: 3."
   ]
  },
  {
   "cell_type": "markdown",
   "id": "1fd402d3",
   "metadata": {},
   "source": [
    "### Code:"
   ]
  },
  {
   "cell_type": "code",
   "execution_count": 39,
   "id": "b7198d9d",
   "metadata": {},
   "outputs": [],
   "source": [
    "def get_value_from_dict(dictionary, key):\n",
    "    return dictionary[key]"
   ]
  },
  {
   "cell_type": "code",
   "execution_count": 40,
   "id": "067311b2",
   "metadata": {},
   "outputs": [
    {
     "name": "stdout",
     "output_type": "stream",
     "text": [
      "Введите ключ: Bye\n",
      "Goodbye\n"
     ]
    }
   ],
   "source": [
    "key_to_find = input(\"Введите ключ: \")\n",
    "\n",
    "print(get_value_from_dict({'Hello': 'Hi', 'Bye': 'Goodbye', 'List': 'Array'}, key_to_find)) "
   ]
  },
  {
   "cell_type": "code",
   "execution_count": 41,
   "id": "97a27e8d",
   "metadata": {},
   "outputs": [
    {
     "name": "stdout",
     "output_type": "stream",
     "text": [
      "Введите ключ: beep\n",
      "car\n"
     ]
    }
   ],
   "source": [
    "key_to_find = input(\"Введите ключ: \")\n",
    "\n",
    "print(get_value_from_dict( {'beep' : 'car'}, key_to_find)) "
   ]
  },
  {
   "cell_type": "code",
   "execution_count": 42,
   "id": "02417c9b",
   "metadata": {},
   "outputs": [
    {
     "name": "stdout",
     "output_type": "stream",
     "text": [
      "Введите ключ: c\n",
      "3\n"
     ]
    }
   ],
   "source": [
    "key_to_find = input(\"Введите ключ: \")\n",
    "\n",
    "print(get_value_from_dict({'a' : 1, 'b' : 2, 'c' : 3, 'd' : 4, 'e' : 5}, key_to_find)) "
   ]
  },
  {
   "cell_type": "markdown",
   "id": "2668d6c8",
   "metadata": {},
   "source": [
    "### Задание 2\n",
    "\n",
    "Напишите программу, которая будет выполнять действие, обратное заданию 1. Программа должна производить поиск по значению и выдавать ключ.\n",
    "\n",
    "**Примечание:**\n",
    "\n",
    "Значения для самостоятельной проверки:\n",
    "Подставьте “Входные данные” в свою программу и сравните результат с выходными данными.\n",
    "\n",
    "- Входные данные: {'Hello' : 'Hi', 'Bye' : 'Goodbye', 'List' : 'Array'};\n",
    "Параметр для input() : 'Hi‘.\n",
    "Выходные данные: 'Hello'.\n",
    "- Входные данные: {'beep' : 'car'};\n",
    "Параметр для input() : 'car'.\n",
    "Выходные данные: 'beep'.\n",
    "- Входные данные: {'a' : 1, 'b' : 2, 'c' : 3, 'd' : 4, 'e' : 5};\n",
    "Параметр для input() : 5.\n",
    "Выходные данные: 'e'."
   ]
  },
  {
   "cell_type": "markdown",
   "id": "45f5c099",
   "metadata": {},
   "source": [
    "### Code:"
   ]
  },
  {
   "cell_type": "code",
   "execution_count": null,
   "id": "655402cf",
   "metadata": {},
   "outputs": [],
   "source": [
    "def get_key_by_value(dictionary, value):\n",
    "    for key, val in dictionary.items():\n",
    "        if val == value:\n",
    "            return key"
   ]
  },
  {
   "cell_type": "code",
   "execution_count": null,
   "id": "e93d1aa2",
   "metadata": {},
   "outputs": [],
   "source": [
    "value_to_find = input(\"Введите значение: \")\n",
    "print(get_key_by_value({'Hello' : 'Hi', 'Bye' : 'Goodbye', 'List' : 'Array'}, value_to_find))"
   ]
  },
  {
   "cell_type": "code",
   "execution_count": 130,
   "id": "a7c570eb",
   "metadata": {},
   "outputs": [
    {
     "name": "stdout",
     "output_type": "stream",
     "text": [
      "Введите значение: car\n",
      "beep\n"
     ]
    }
   ],
   "source": [
    "value_to_find = input(\"Введите значение: \")\n",
    "print(get_key_by_value({'beep' : 'car'}, value_to_find)) "
   ]
  },
  {
   "cell_type": "markdown",
   "id": "20e0581e",
   "metadata": {},
   "source": [
    "### Задание 3\n",
    "\n",
    "Напишите программу, которая принимает список строк и выводит количество повторений данных строк в списке.\n",
    "\n",
    "Необходимо реализовать решение с использованием словарей.\n",
    "Подставьте “Входные данные” в свою программу и сравните результат с выходными данными.\n",
    "\n",
    "- Входные данные: ['abc', 'bcd', 'abc', 'abd', 'abd', 'dcd', 'abc'].\n",
    "Выходные данные: 3 1 2 1.\n",
    "- Входные данные: ['aaa', 'bbb', 'ccc'].\n",
    "Выходные данные: 1 1 1.\n",
    "- Входные данные: ['abc', 'abc', 'abc'].\n",
    "Выходные данные: 3."
   ]
  },
  {
   "cell_type": "markdown",
   "id": "f83f2fb3",
   "metadata": {},
   "source": [
    "### Code:"
   ]
  },
  {
   "cell_type": "code",
   "execution_count": 138,
   "id": "1ac52807",
   "metadata": {},
   "outputs": [],
   "source": [
    "def count_string_repets(string_list):\n",
    "    string_repets = {}\n",
    "    for string in string_list:\n",
    "        if string in string_repets:\n",
    "            string_repets[string] += 1\n",
    "        else:\n",
    "            string_repets[string] = 1\n",
    "    return list(string_repets.values())"
   ]
  },
  {
   "cell_type": "code",
   "execution_count": 141,
   "id": "de26b256",
   "metadata": {},
   "outputs": [
    {
     "name": "stdout",
     "output_type": "stream",
     "text": [
      "[3, 1, 2, 1]\n"
     ]
    }
   ],
   "source": [
    "print(count_string_repets(['abc', 'bcd', 'abc', 'abd', 'abd', 'dcd', 'abc']))  "
   ]
  },
  {
   "cell_type": "code",
   "execution_count": 142,
   "id": "f7a9416d",
   "metadata": {},
   "outputs": [
    {
     "name": "stdout",
     "output_type": "stream",
     "text": [
      "[1, 1, 1]\n"
     ]
    }
   ],
   "source": [
    "print(count_string_repets(['aaa', 'bbb', 'ccc']))   "
   ]
  },
  {
   "cell_type": "code",
   "execution_count": 143,
   "id": "a39297dc",
   "metadata": {},
   "outputs": [
    {
     "name": "stdout",
     "output_type": "stream",
     "text": [
      "[3]\n"
     ]
    }
   ],
   "source": [
    "print(count_string_repets(['abc', 'abc', 'abc'])) "
   ]
  },
  {
   "cell_type": "markdown",
   "id": "f2e905fb",
   "metadata": {},
   "source": [
    "## Множества"
   ]
  },
  {
   "cell_type": "markdown",
   "id": "fc7b3653",
   "metadata": {},
   "source": [
    "### Задание 1\n",
    "\n",
    "Напишите программу, которая принимает список чисел и с помощью множеств определяет количество различных чисел внутри списка.\n",
    "\n",
    "Значения для самостоятельной проверки:\n",
    "\n",
    "Подставьте “Входные данные” в свою программу и сравните результат с выходными данными.\n",
    "\n",
    "- Входные данные: 1, 2, 3, 2, 1.\n",
    "Выходные значения: 3.\n",
    "- Входные данные: 1, 2, 3, 4, 5, 6, 7.\n",
    "Выходные значения: 7.\n",
    "- Входные данные: 1, 1, 1, 1, 1.\n",
    "Выходные значения: 1.\n",
    "- Входные данные: 1, 2, 3, 1, 1.\n",
    "Выходные значения: 3."
   ]
  },
  {
   "cell_type": "markdown",
   "id": "a7f98ff4",
   "metadata": {},
   "source": [
    "### Code:"
   ]
  },
  {
   "cell_type": "code",
   "execution_count": 144,
   "id": "7c2c360c",
   "metadata": {},
   "outputs": [],
   "source": [
    "def distinct_numbers_of_set(numbers):\n",
    "    distinct_numbers = set(numbers)\n",
    "    return len(distinct_numbers)"
   ]
  },
  {
   "cell_type": "code",
   "execution_count": 146,
   "id": "e986211c",
   "metadata": {},
   "outputs": [
    {
     "name": "stdout",
     "output_type": "stream",
     "text": [
      "3\n"
     ]
    }
   ],
   "source": [
    "print(distinct_numbers_of_set([1, 2, 3, 2, 1])) "
   ]
  },
  {
   "cell_type": "code",
   "execution_count": 147,
   "id": "9f60ac30",
   "metadata": {},
   "outputs": [
    {
     "name": "stdout",
     "output_type": "stream",
     "text": [
      "7\n"
     ]
    }
   ],
   "source": [
    "print(distinct_numbers_of_set([1, 2, 3, 4, 5, 6, 7]))"
   ]
  },
  {
   "cell_type": "code",
   "execution_count": 148,
   "id": "957af7da",
   "metadata": {},
   "outputs": [
    {
     "name": "stdout",
     "output_type": "stream",
     "text": [
      "1\n"
     ]
    }
   ],
   "source": [
    "print(distinct_numbers_of_set([1, 1, 1, 1, 1])) "
   ]
  },
  {
   "cell_type": "code",
   "execution_count": 149,
   "id": "9b662f7d",
   "metadata": {},
   "outputs": [
    {
     "name": "stdout",
     "output_type": "stream",
     "text": [
      "3\n"
     ]
    }
   ],
   "source": [
    "print(distinct_numbers_of_set([1, 2, 3, 1, 1]))  "
   ]
  },
  {
   "cell_type": "markdown",
   "id": "d8e8c1fc",
   "metadata": {},
   "source": [
    "### Задание 2\n",
    "\n",
    "Допишите функцию, которая принимает несколько списков чисел и, с помощью множеств, определяет количество общих чисел из первого и второго списка.\n",
    "\n",
    "- Входные данные: [1, 2, 3], [1, 4, 5].\n",
    "Выходные значения: 1.\n",
    "- Входные данные: [1, 2, 3, 4, 5, 6, 7], [10, 2, 3, 4, 8].\n",
    "Выходные значения: 3.\n",
    "- Входные данные: [1, 10, 223, 413, 2], [2, 40, 12, 100, 10].\n",
    "Выходные значения: 2."
   ]
  },
  {
   "cell_type": "markdown",
   "id": "61ce6968",
   "metadata": {},
   "source": [
    "### Code:"
   ]
  },
  {
   "cell_type": "code",
   "execution_count": 151,
   "id": "77eafff9",
   "metadata": {},
   "outputs": [],
   "source": [
    "def intersection_of_set(list1,list2):\n",
    "    set1 = set(list1);\n",
    "    set2 = set(list2);\n",
    "    return len(set1.intersection(set2))"
   ]
  },
  {
   "cell_type": "code",
   "execution_count": 152,
   "id": "58324d1a",
   "metadata": {},
   "outputs": [
    {
     "name": "stdout",
     "output_type": "stream",
     "text": [
      "1\n"
     ]
    }
   ],
   "source": [
    "print(intersection_of_set([1, 2, 3], [1, 4, 5])) "
   ]
  },
  {
   "cell_type": "code",
   "execution_count": 153,
   "id": "fa9172ba",
   "metadata": {},
   "outputs": [
    {
     "name": "stdout",
     "output_type": "stream",
     "text": [
      "3\n"
     ]
    }
   ],
   "source": [
    "print(intersection_of_set([1, 2, 3, 4, 5, 6, 7], [10, 2, 3, 4, 8]))  "
   ]
  },
  {
   "cell_type": "code",
   "execution_count": 154,
   "id": "1ef237b9",
   "metadata": {},
   "outputs": [
    {
     "name": "stdout",
     "output_type": "stream",
     "text": [
      "2\n"
     ]
    }
   ],
   "source": [
    "print(intersection_of_set([1, 10, 223, 413, 2], [2, 40, 12, 100, 10])) "
   ]
  },
  {
   "cell_type": "markdown",
   "id": "555ae641",
   "metadata": {},
   "source": [
    "### Задание 3\n",
    "\n",
    "Даны два множества чисел. Напишите программу, которая определяет, является ли первое множество подмножеством второго. Множество является подмножеством другого множества, если все данные первого совпадают с частью данных из второго. Если множества совпадают, они не являются подмножествами друг друга.\n",
    "\n",
    "Если первое множество является подмножеством второго, программа должна выводить True, в остальных случаях - False.\n",
    "\n",
    "Значения для самостоятельной проверки:\n",
    "\n",
    "Подставьте “Входные данные” в свою программу и сравните результат с выходными данными.\n",
    "\n",
    "- Входные данные: {1, 2, 3}\n",
    "{1, 4, 5}.\n",
    "Выходные значения: False.\n",
    "- Входные данные: {1, 2, 3, 4, 5, 6, 7}\n",
    "{10, 9, 8, 7, 6, 5, 4, 3, 2, 1, 0}.\n",
    "Выходные значения: True.\n",
    "- Входные данные: {1, 10, 223, 413, 2}\n",
    "{1, 10, 223, 413, 2}.\n",
    "Выходные значения: False."
   ]
  },
  {
   "cell_type": "markdown",
   "id": "66154a1d",
   "metadata": {},
   "source": [
    "### Code:"
   ]
  },
  {
   "cell_type": "code",
   "execution_count": 155,
   "id": "704fdc6d",
   "metadata": {},
   "outputs": [],
   "source": [
    "def is_subset(set1, set2):\n",
    "    return set1.issubset(set2) and set1 != set2"
   ]
  },
  {
   "cell_type": "code",
   "execution_count": 156,
   "id": "ae3f4389",
   "metadata": {},
   "outputs": [
    {
     "name": "stdout",
     "output_type": "stream",
     "text": [
      "False\n",
      "True\n",
      "False\n"
     ]
    }
   ],
   "source": [
    "print(is_subset({1, 2, 3}, {1, 4, 5}))  \n",
    "print(is_subset({1, 2, 3, 4, 5, 6, 7}, {10, 9, 8, 7, 6, 5, 4, 3, 2, 1, 0}))\n",
    "print(is_subset({1, 10, 223, 413, 2}, {1, 10, 223, 413, 2})) "
   ]
  },
  {
   "cell_type": "markdown",
   "id": "917f6e6e",
   "metadata": {},
   "source": [
    "### Комментарии\n",
    "\n",
    "Функция is_subset(set1, set2) принимает два множества set1 и set2 в качестве своих аргументов. Использует метод issubset() для множеств, чтобы проверить, является ли set1 подмножеством set2. Дополнительно проверяется, что set1 не равно set2, чтобы исключить случай, когда множества совпадают.\n",
    "\n",
    "Функция возвращает True, если set1 является подмножеством set2, и False в противном случае."
   ]
  },
  {
   "cell_type": "markdown",
   "id": "abe5542d",
   "metadata": {},
   "source": [
    "## Функции"
   ]
  },
  {
   "cell_type": "markdown",
   "id": "51357607",
   "metadata": {},
   "source": [
    "### Задание 1\n",
    "\n",
    "Напишите программу, которая принимает арифметическое выражение в качестве аргумента и выводит результат этого выражения.\n",
    "\n",
    "**Примечание:**\n",
    "\n",
    "Необходимо использовать функции. Программа должна поддерживать следующие арифметические операции: +, -, /, *, %(получение процента от числа),** (возведение в квадрат), х(возведение в степень числа х). Запрещено подключать дополнительные модули. Для вывода результата необходимо использовать функцию print().\n",
    "\n",
    "Значения для самостоятельной проверки:\n",
    "\n",
    "Подставьте “Входные данные” в свою программу и сравните результат с выходными данными.\n",
    "\n",
    "- Входные данные: 1+9.\n",
    "Выходные значения: 10.\n",
    "- Входные данные: 100%.\n",
    "Выходные значения: 1.0.\n",
    "- Входные данные: 4**.\n",
    "Выходные значения: 16.\n",
    "- Входные данные: 9**3.\n",
    "Выходные значения: 729."
   ]
  },
  {
   "cell_type": "markdown",
   "id": "6a5a1f84",
   "metadata": {},
   "source": [
    "### Code:"
   ]
  },
  {
   "cell_type": "code",
   "execution_count": 57,
   "id": "3e41280b",
   "metadata": {},
   "outputs": [],
   "source": [
    "def calculate(expression):\n",
    "    # Удаляем пробелы из выражения\n",
    "    expression = expression.replace(\" \", \"\")\n",
    "    \n",
    "    # Обработка получения процента от числа\n",
    "    if expression.endswith('%'):\n",
    "        number = float(expression[:-1])  # Преобразуем в float\n",
    "        return number / 100  \n",
    "\n",
    "    # Обработка возведения в квадрат \n",
    "    if expression.endswith('**'):\n",
    "        number = float(expression[:-2])  # Преобразуем в float\n",
    "        return number ** 2 \n",
    "\n",
    "    # Обработка арифметических операций\n",
    "    try:\n",
    "        result = eval(expression)  \n",
    "        return result\n",
    "    except Exception as e:\n",
    "        return f\"Ошибка: {e}\"  "
   ]
  },
  {
   "cell_type": "code",
   "execution_count": 58,
   "id": "68cca7d7",
   "metadata": {},
   "outputs": [
    {
     "name": "stdout",
     "output_type": "stream",
     "text": [
      "10\n",
      "1.0\n",
      "16.0\n",
      "729\n",
      "121.0\n"
     ]
    }
   ],
   "source": [
    "print(calculate(\"9 + 1\"))\n",
    "print(calculate(\"100%\"))\n",
    "print(calculate(\"4**\"))\n",
    "print(calculate(\"9**3\"))\n",
    "print(calculate(\"11**\"))"
   ]
  },
  {
   "cell_type": "markdown",
   "id": "79e9f8ad",
   "metadata": {},
   "source": [
    "### Комментарии"
   ]
  },
  {
   "cell_type": "markdown",
   "id": "fd5d7bf9",
   "metadata": {},
   "source": [
    "Функция принимает на вход арифметическое выражение в формате строки. Затем производится удаление пробелов.\n",
    "Используя условный опператор if, проверяем, заканчивается ли выражение на %, и вычисляем соответствующий процент.\n",
    "Проверяется, заканчивается ли выражение на \"**\", если да, то число возводится в квадрат.\n",
    "Для обработки арифметических операций используется встроенная функция eval, которая вычисляет результат арифметического выражения.\n",
    "Если возникает ошибка в процессе вычисления, возвращается сообщение об ошибке."
   ]
  },
  {
   "cell_type": "markdown",
   "id": "2d7f0fe9",
   "metadata": {},
   "source": [
    "# Работа с файлами"
   ]
  },
  {
   "cell_type": "markdown",
   "id": "3851045e",
   "metadata": {},
   "source": [
    "### Задание 1\n",
    "\n",
    "В данной задаче вам будет необходимо работать с заранее подготовленным файлом, представленным по ссылке.\n",
    "Текстовый файл находится в ZIP архиве, вам необходимо скачать его, распаковать и переместить текстовый документ в папку, где будет лежать файл с программой для решения данной задачи.\n",
    "\n",
    "Файл представляет собой список данных людей со следующими заголовками:\n",
    "\n",
    "EMAIL NAME LAST_NAME TEL CITY\n",
    "\n",
    "Столбец EMAIL пустой у всех. Остальные позиции могут быть заполнены или нет.\n",
    "\n",
    "Представим следующую ситуацию: вы являетесь сотрудником IT отдела некой компании. Ваша компания открывает новый филиал с переводом необходимого количества сотрудников из разных городов. Новый филиал имеет свой почтовый домен. Вам, как сотруднику IT отдела, необходимо создать каждому сотруднику, переходящему в новый филиал, свой уникальный почтовый адрес. У вас есть неотформатированный список сотрудников, который заполняли непонятно как. Также у вас есть кусок кода - функция, которая по имени и фамилии сотрудника составляет его уникальный почтовый адрес.\n",
    "\n",
    "Для выполнения данного задания вам необходимо написать программу, удовлетворяющую следующим требованиям:\n",
    "\n",
    "- Программа должна читать исходный текстовый файл\n",
    "\n",
    "- Программа должна содержать функцию, представленную ниже, для создания почтовых адресов\n",
    "\n",
    "- Программа должна заполнить пустой столбец с почтовыми адресами в исходном файле и перезаписать его\n",
    "\n",
    "- Почтовый адрес должен создаваться только для тех, у кого заполнены все остальные поля - Имя, Фамилия, Телефонный номер, Город\n",
    "\n",
    "- Телефонный номер считается валидным, если он состоит из 7 цифр, в противном случае информация невалидна и программа не должна создавать почтовый адрес сотруднику\n",
    "\n",
    "После выполнения вашей программы исходный текстовый файл должен быть заполнен информацией с почтовыми адресами сотрудников.\n",
    "\n",
    "Функция для создания почтовых адресов:\n",
    "\n",
    "```Python\n",
    "def email_gen(list_of_names):\n",
    "       emails = []\n",
    "    for i in list_of_names:  \n",
    "        letter = 1       \n",
    "        while i[1] + '.' + i[0][0:letter] + '@company.io' in emails:       \n",
    "            letter+=1          \n",
    "        emails.append(i[1] + '.' + i[0][0:letter] + '@company.io')      \n",
    "    return emails\n",
    "```\n",
    "    \n",
    "Функция принимает список списков `[['Имя_1', 'Фамилия_1'], ['Имя_2', 'Фамилия_2'], ['Имя_3', 'Фамилия_3']]` из имен и фамилий `list_of_names`. Далее создается пустой список emails, который в ходе выполнения, заполнится почтовыми адресами. Запускается цикл для каждого списка из имени и фамилии `['Имя_1', 'Фамилия_1']`. Устанавливается окончание среза `letter = 1`. Далее проходит проверка на совпадение, если в списке адресов уже есть такой же адрес (например имя и фамилия сотрудников совпадают), то срез `i[0][0:letter]` увеличивается на 1 символ. После в список адресов добавляется новый адрес. Адреса присваиваются пользователям по следующей формуле: берется фамилия сотрудника, добавляется точка, затем добавляется первая буква имени и остаточная часть `'@company.io'`. Если имена и фамилии сотрудников совпадают, к первой букве имени добавляется вторая и т.д.\n",
    "\n",
    "Пример выполнения:\n",
    "```python\n",
    "print(email_gen([['Ivan', 'Petrov'], ['Ivan', 'Petrov'], ['Ivan', 'Petrov']]))\n",
    "['Petrov.I@company.io', 'Petrov.Iv@company.io', 'Petrov.Iva@company.io']\n",
    "```"
   ]
  },
  {
   "cell_type": "markdown",
   "id": "48522dc5",
   "metadata": {},
   "source": [
    "### Code:"
   ]
  },
  {
   "cell_type": "code",
   "execution_count": 267,
   "id": "507ce263",
   "metadata": {},
   "outputs": [],
   "source": [
    "def email_gen(list_of_names):\n",
    "    emails = []\n",
    "    for i in list_of_names:\n",
    "        letter = 1\n",
    "        while i[1] + '.' + i[0][0:letter] + '@company.io' in emails:\n",
    "            letter += 1\n",
    "        emails.append(i[1] + '.' + i[0][0:letter] + '@company.io')\n",
    "    return emails\n",
    "\n",
    "\n",
    "def create_emails(filename, delimiter=\" \"):\n",
    "    with open(filename, 'r') as f:\n",
    "        names_list = []\n",
    "        d_list = []\n",
    "        f.readline()  # Пропускаем заголовок\n",
    "        for data in f:\n",
    "            EMAIL, NAME, LAST_NAME, TEL, CITY = data.split(delimiter)\n",
    "            if NAME != \"\" and LAST_NAME != \"\" and TEL.isdigit() and len(TEL) == 7 and CITY != \"\":\n",
    "                names_list.append([NAME, LAST_NAME])\n",
    "                d_list.append([NAME, LAST_NAME, TEL, CITY])\n",
    "        email_list = email_gen(names_list)  \n",
    "        print(names_list)\n",
    "        print(email_list)\n",
    "        print(d_list)\n",
    "\n",
    "    with open(filename, 'w') as f:\n",
    "        f.write(\"EMAIL NAME LAST_NAME TEL CITY\\n\")  # Записываем заголовок\n",
    "        for i, row in enumerate(d_list):  # Используем enumerate для индекса\n",
    "            if i < len(email_list):\n",
    "                f.write(f\"{email_list[i]} {row[0]} {row[1]} {row[2]} {row[3]}\")  \n",
    "    f.close()"
   ]
  },
  {
   "cell_type": "code",
   "execution_count": 268,
   "id": "557e5405",
   "metadata": {},
   "outputs": [
    {
     "name": "stdout",
     "output_type": "stream",
     "text": [
      "[['Ivan', 'Ivanov'], ['Elena', 'Petrova'], ['Ivan', 'Ivanov'], ['Olga', 'Lebedeva'], ['Daniil', 'Pavlov'], ['Arina', 'Soboleva'], ['Alexander', 'Mazur']]\n",
      "['Ivanov.I@company.io', 'Petrova.E@company.io', 'Ivanov.Iv@company.io', 'Lebedeva.O@company.io', 'Pavlov.D@company.io', 'Soboleva.A@company.io', 'Mazur.A@company.io']\n",
      "[['Ivan', 'Ivanov', '1022354', 'Moscow\\n'], ['Elena', 'Petrova', '1042356', 'Irkutsk\\n'], ['Ivan', 'Ivanov', '1052347', 'Kaliningrad\\n'], ['Olga', 'Lebedeva', '4587359', 'Omsk\\n'], ['Daniil', 'Pavlov', '9272362', 'Moscow\\n'], ['Arina', 'Soboleva', '9423345', 'Irkutsk\\n'], ['Alexander', 'Mazur', '1025892', 'Irkutsk\\n']]\n"
     ]
    }
   ],
   "source": [
    "create_emails(\"employees.txt\")"
   ]
  },
  {
   "cell_type": "markdown",
   "id": "ac1bd25f",
   "metadata": {},
   "source": [
    "### Комментарии"
   ]
  },
  {
   "cell_type": "markdown",
   "id": "63b30548",
   "metadata": {},
   "source": [
    "Файл employees.txt был создан самостоятельно и находится в папке \"Дополнительные материалы\".\n",
    "\n",
    "Функция email_gen(list_of_names) генерирует уникальные адреса электронной почты на основе списка имен и фамилий сотрудников и возвращает список всех сгенерированных уникальных адресов электронной почты.\n",
    "\n",
    "Функция create_emails(filename, delimiter=\" \") считывает данные из файла filename, проверяет их валидность, генерирует адреса электронной почты и записывает обновленные данные в файл.\n",
    "\n",
    "Она открывает файл filename в режиме чтения ('r').\n",
    "Создаются два пустых списка: names_list для хранения пар “имя-фамилия” и d_list для хранения полных данных о сотруднике (имя, фамилия, телефон, город).\n",
    "\n",
    "При помощи цикла for каждая строка разделяется по разделителю delimiter и полученные значения присваиваются переменным EMAIL, NAME, LAST_NAME, TEL, CITY.\n",
    "Проверяется, что имя (NAME), фамилия (LAST_NAME), телефонный номер (TEL) и город (CITY) заполнены, а телефонный номер состоит из 7 цифр. Если все условия выполнены, пара “имя-фамилия” добавляется в список names_list, а полные данные о сотруднике — в список d_list. Вызывается функция email_gen для генерации адресов электронной почты на основе списка names_list.\n",
    "\n",
    "Затем открывается файл filename в режиме записи ('w'). В начало файла записывается заголовок столбцов. Цикл for с enumerate перебирает список d_list, чтобы получить индекс и информацию о каждом сотруднике. В файл записывается строка с адресом электронной почты, именем, фамилией, телефоном и городом сотрудника."
   ]
  },
  {
   "cell_type": "markdown",
   "id": "6980318d",
   "metadata": {},
   "source": [
    "## Подключение модулей"
   ]
  },
  {
   "cell_type": "markdown",
   "id": "321f9be8",
   "metadata": {},
   "source": [
    "### Code:"
   ]
  },
  {
   "cell_type": "code",
   "execution_count": 68,
   "id": "5bdd93f9",
   "metadata": {},
   "outputs": [
    {
     "name": "stdout",
     "output_type": "stream",
     "text": [
      "Введите длину пароля (не менее 12 символов): 16\n",
      "Сгенерированный пароль: Sq2nWQ!GM1MMzKsp\n"
     ]
    }
   ],
   "source": [
    "import random\n",
    "\n",
    "def generate_password(length=12):\n",
    "    if length < 12:\n",
    "        raise ValueError(\"Пароль должен содержать не менее 12 символов.\")\n",
    "\n",
    "    # Наборы символов\n",
    "    lower_letters = 'abcdefghijklmnopqrstuvwxyz'\n",
    "    upper_letters = 'ABCDEFGHIJKLMNOPQRSTUVWXYZ'\n",
    "    digits = '1234567890'\n",
    "    special_characters = '!@#$%^&*()-+'\n",
    "\n",
    "    # Обеспечиваем наличие хотя бы одного символа из каждой категории\n",
    "    password = [\n",
    "        random.choice(lower_letters),\n",
    "        random.choice(upper_letters),\n",
    "        random.choice(digits),\n",
    "        random.choice(special_characters)\n",
    "    ]\n",
    "\n",
    "    # Заполняем оставшиеся символы случайными символами из всех категорий\n",
    "    characters = lower_letters + upper_letters + digits + special_characters\n",
    "    password += random.choices(characters, k=length - 4)\n",
    "\n",
    "    # Перемешиваем пароль, чтобы сделать его более случайным\n",
    "    random.shuffle(password)\n",
    "\n",
    "    return ''.join(password)\n",
    "\n",
    "try:\n",
    "    length = int(input(\"Введите длину пароля (не менее 12 символов): \"))\n",
    "    password = generate_password(length)  # Задаем длину пароля\n",
    "    print(f\"Сгенерированный пароль: {password}\")\n",
    "except ValueError as ve:\n",
    "    print(ve)\n",
    "except Exception as e:\n",
    "    print(f\"Произошла ошибка: {e}\")"
   ]
  },
  {
   "cell_type": "markdown",
   "id": "8c8a3c53",
   "metadata": {},
   "source": [
    "### Комментарии"
   ]
  },
  {
   "cell_type": "markdown",
   "id": "13fe4996",
   "metadata": {},
   "source": [
    "Функция generate_password() проверяет, что длина пароля не меньше 12 символов, если это не так, пользователь получает сообщение об ошибке. Определяются наборы символов для доступных строчных и заглавных букв, цифр и специальных символов.\n",
    "Формирование пароля происходит следующим образом. В начало генерируеого пароля добавляются по одному символу из каждой категории, чтобы обеспечить выполнение всех условий. Затем оставшаяся часть пароля заполняется случайными символами из объединённого набора всех символов.\n",
    "\n",
    "Для повышения случайности пароля, он перемешивается.\n",
    "\n",
    "Функция возвращает сгенерированный пароль в виде строки."
   ]
  }
 ],
 "metadata": {
  "kernelspec": {
   "display_name": "Python 3 (ipykernel)",
   "language": "python",
   "name": "python3"
  },
  "language_info": {
   "codemirror_mode": {
    "name": "ipython",
    "version": 3
   },
   "file_extension": ".py",
   "mimetype": "text/x-python",
   "name": "python",
   "nbconvert_exporter": "python",
   "pygments_lexer": "ipython3",
   "version": "3.13.2"
  }
 },
 "nbformat": 4,
 "nbformat_minor": 5
}
